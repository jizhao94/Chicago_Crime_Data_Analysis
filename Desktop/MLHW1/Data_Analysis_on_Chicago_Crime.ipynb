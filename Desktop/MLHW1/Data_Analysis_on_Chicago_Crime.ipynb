{
 "cells": [
  {
   "cell_type": "markdown",
   "metadata": {},
   "source": [
    "# Data Analysis on Chicago Crime Data\n",
    "\n",
    "Name: Peter Li\n",
    "<br>\n",
    "CNetID: jizhao"
   ]
  },
  {
   "cell_type": "markdown",
   "metadata": {},
   "source": [
    "Above all, import all necessary packages"
   ]
  },
  {
   "cell_type": "code",
   "execution_count": 1,
   "metadata": {},
   "outputs": [
    {
     "name": "stdout",
     "output_type": "stream",
     "text": [
      "Requirement already satisfied: census in d:\\anaconda\\lib\\site-packages (0.8.13)\n",
      "Requirement already satisfied: requests>=1.1.0 in d:\\anaconda\\lib\\site-packages (from census) (2.21.0)\n",
      "Requirement already satisfied: future in d:\\anaconda\\lib\\site-packages (from census) (0.17.1)\n",
      "Requirement already satisfied: chardet<3.1.0,>=3.0.2 in d:\\anaconda\\lib\\site-packages (from requests>=1.1.0->census) (3.0.4)\n",
      "Requirement already satisfied: idna<2.9,>=2.5 in d:\\anaconda\\lib\\site-packages (from requests>=1.1.0->census) (2.8)\n",
      "Requirement already satisfied: urllib3<1.25,>=1.21.1 in d:\\anaconda\\lib\\site-packages (from requests>=1.1.0->census) (1.24.1)\n",
      "Requirement already satisfied: certifi>=2017.4.17 in d:\\anaconda\\lib\\site-packages (from requests>=1.1.0->census) (2018.11.29)\n"
     ]
    }
   ],
   "source": [
    "!pip install census"
   ]
  },
  {
   "cell_type": "code",
   "execution_count": 2,
   "metadata": {},
   "outputs": [
    {
     "name": "stdout",
     "output_type": "stream",
     "text": [
      "Requirement already satisfied: us in d:\\anaconda\\lib\\site-packages (1.0.0)\n",
      "Requirement already satisfied: jellyfish==0.5.6 in d:\\anaconda\\lib\\site-packages (from us) (0.5.6)\n"
     ]
    }
   ],
   "source": [
    "!pip install us"
   ]
  },
  {
   "cell_type": "code",
   "execution_count": 3,
   "metadata": {},
   "outputs": [],
   "source": [
    "import pandas as pd"
   ]
  },
  {
   "cell_type": "code",
   "execution_count": 4,
   "metadata": {},
   "outputs": [],
   "source": [
    "from census import Census\n",
    "from us import states"
   ]
  },
  {
   "cell_type": "code",
   "execution_count": 5,
   "metadata": {},
   "outputs": [],
   "source": [
    "import statsmodels.api as sm"
   ]
  },
  {
   "cell_type": "code",
   "execution_count": 6,
   "metadata": {},
   "outputs": [],
   "source": [
    "from datetime import datetime"
   ]
  },
  {
   "cell_type": "code",
   "execution_count": 7,
   "metadata": {},
   "outputs": [],
   "source": [
    "from matplotlib import pyplot as plt"
   ]
  },
  {
   "cell_type": "markdown",
   "metadata": {},
   "source": [
    "## Problem 1: Data Acquisition and Analysis\n",
    "\n",
    "Convert crime data in 2017 and 2018 to pandas dataframe"
   ]
  },
  {
   "cell_type": "code",
   "execution_count": 8,
   "metadata": {},
   "outputs": [],
   "source": [
    "crime_17 = pd.read_csv('Crimes_-_2017.csv')"
   ]
  },
  {
   "cell_type": "code",
   "execution_count": 9,
   "metadata": {},
   "outputs": [],
   "source": [
    "crime_18 = pd.read_csv('Crimes_-_2018.csv')"
   ]
  },
  {
   "cell_type": "code",
   "execution_count": 10,
   "metadata": {},
   "outputs": [],
   "source": [
    "crime_17['Primary Type'] = crime_17['Primary Type'].astype('category')"
   ]
  },
  {
   "cell_type": "code",
   "execution_count": 11,
   "metadata": {},
   "outputs": [],
   "source": [
    "crime_18['Primary Type'] = crime_18['Primary Type'].astype('category')"
   ]
  },
  {
   "cell_type": "markdown",
   "metadata": {},
   "source": [
    "Find the number of each crime type in 2017"
   ]
  },
  {
   "cell_type": "code",
   "execution_count": 12,
   "metadata": {},
   "outputs": [],
   "source": [
    "crime_17_type_count = crime_17['Primary Type'].value_counts()"
   ]
  },
  {
   "cell_type": "code",
   "execution_count": 13,
   "metadata": {},
   "outputs": [
    {
     "data": {
      "text/plain": [
       "THEFT                                64346\n",
       "BATTERY                              49214\n",
       "CRIMINAL DAMAGE                      29042\n",
       "ASSAULT                              19303\n",
       "DECEPTIVE PRACTICE                   19028\n",
       "OTHER OFFENSE                        17227\n",
       "BURGLARY                             13001\n",
       "ROBBERY                              11877\n",
       "NARCOTICS                            11658\n",
       "MOTOR VEHICLE THEFT                  11406\n",
       "CRIMINAL TRESPASS                     6812\n",
       "WEAPONS VIOLATION                     4686\n",
       "OFFENSE INVOLVING CHILDREN            2269\n",
       "CRIM SEXUAL ASSAULT                   1628\n",
       "PUBLIC PEACE VIOLATION                1498\n",
       "INTERFERENCE WITH PUBLIC OFFICER      1086\n",
       "SEX OFFENSE                           1025\n",
       "PROSTITUTION                           735\n",
       "HOMICIDE                               676\n",
       "ARSON                                  444\n",
       "GAMBLING                               191\n",
       "LIQUOR LAW VIOLATION                   191\n",
       "KIDNAPPING                             190\n",
       "STALKING                               188\n",
       "INTIMIDATION                           151\n",
       "OBSCENITY                               87\n",
       "CONCEALED CARRY LICENSE VIOLATION       69\n",
       "NON-CRIMINAL                            38\n",
       "OTHER NARCOTIC VIOLATION                11\n",
       "PUBLIC INDECENCY                        10\n",
       "HUMAN TRAFFICKING                        9\n",
       "NON-CRIMINAL (SUBJECT SPECIFIED)         2\n",
       "Name: Primary Type, dtype: int64"
      ]
     },
     "execution_count": 13,
     "metadata": {},
     "output_type": "execute_result"
    }
   ],
   "source": [
    "crime_17_type_count"
   ]
  },
  {
   "cell_type": "code",
   "execution_count": 14,
   "metadata": {},
   "outputs": [
    {
     "data": {
      "text/plain": [
       "<matplotlib.axes._subplots.AxesSubplot at 0xa516810>"
      ]
     },
     "execution_count": 14,
     "metadata": {},
     "output_type": "execute_result"
    },
    {
     "data": {
      "image/png": "[encoded data removed]",
      "text/plain": [
       "<Figure size 432x288 with 1 Axes>"
      ]
     },
     "metadata": {
      "needs_background": "light"
     },
     "output_type": "display_data"
    }
   ],
   "source": [
    "%matplotlib inline\n",
    "crime_17_type_count.plot.bar()"
   ]
  },
  {
   "cell_type": "markdown",
   "metadata": {},
   "source": [
    "Find the number of each crime type in 2018"
   ]
  },
  {
   "cell_type": "code",
   "execution_count": 15,
   "metadata": {},
   "outputs": [],
   "source": [
    "crime_18_type_count = crime_18['Primary Type'].value_counts()"
   ]
  },
  {
   "cell_type": "code",
   "execution_count": 16,
   "metadata": {},
   "outputs": [
    {
     "data": {
      "text/plain": [
       "<matplotlib.axes._subplots.AxesSubplot at 0xb1e7830>"
      ]
     },
     "execution_count": 16,
     "metadata": {},
     "output_type": "execute_result"
    },
    {
     "data": {
      "image/png": "[encoded data removed]",
      "text/plain": [
       "<Figure size 432x288 with 1 Axes>"
      ]
     },
     "metadata": {
      "needs_background": "light"
     },
     "output_type": "display_data"
    }
   ],
   "source": [
    "crime_18_type_count.plot.bar()"
   ]
  },
  {
   "cell_type": "markdown",
   "metadata": {},
   "source": [
    "Difference in each crime type between 2017 and 2018"
   ]
  },
  {
   "cell_type": "code",
   "execution_count": 17,
   "metadata": {},
   "outputs": [],
   "source": [
    "crime_diff = crime_18_type_count - crime_17_type_count"
   ]
  },
  {
   "cell_type": "code",
   "execution_count": 18,
   "metadata": {},
   "outputs": [
    {
     "data": {
      "text/plain": [
       "<matplotlib.axes._subplots.AxesSubplot at 0xb379650>"
      ]
     },
     "execution_count": 18,
     "metadata": {},
     "output_type": "execute_result"
    },
    {
     "data": {
      "image/png": "[encoded data removed]",
      "text/plain": [
       "<Figure size 432x288 with 1 Axes>"
      ]
     },
     "metadata": {
      "needs_background": "light"
     },
     "output_type": "display_data"
    }
   ],
   "source": [
    "crime_diff.plot.bar()"
   ]
  },
  {
   "cell_type": "markdown",
   "metadata": {},
   "source": [
    "Find the top 10 community areas in Chicago that suffered from arson, theft, robbery, and assault respectively in 2017"
   ]
  },
  {
   "cell_type": "code",
   "execution_count": 19,
   "metadata": {},
   "outputs": [],
   "source": [
    "crime_17_type_by_ca = crime_17.groupby(['Community Area', 'Primary Type'])['ID'].count().reset_index()"
   ]
  },
  {
   "cell_type": "code",
   "execution_count": 20,
   "metadata": {},
   "outputs": [
    {
     "data": {
      "text/plain": [
       "<matplotlib.axes._subplots.AxesSubplot at 0xd210190>"
      ]
     },
     "execution_count": 20,
     "metadata": {},
     "output_type": "execute_result"
    },
    {
     "data": {
      "image/png": "[encoded data removed]",
      "text/plain": [
       "<Figure size 432x288 with 1 Axes>"
      ]
     },
     "metadata": {
      "needs_background": "light"
     },
     "output_type": "display_data"
    }
   ],
   "source": [
    "crime_17_type_by_ca[crime_17_type_by_ca['Primary Type'] == 'ARSON'].sort_values(['ID'], ascending=False)[:10].plot.bar('Community Area')"
   ]
  },
  {
   "cell_type": "code",
   "execution_count": 21,
   "metadata": {},
   "outputs": [
    {
     "data": {
      "text/plain": [
       "<matplotlib.axes._subplots.AxesSubplot at 0xd315310>"
      ]
     },
     "execution_count": 21,
     "metadata": {},
     "output_type": "execute_result"
    },
    {
     "data": {
      "image/png": "[encoded data removed]",
      "text/plain": [
       "<Figure size 432x288 with 1 Axes>"
      ]
     },
     "metadata": {
      "needs_background": "light"
     },
     "output_type": "display_data"
    }
   ],
   "source": [
    "crime_17_type_by_ca[crime_17_type_by_ca['Primary Type'] == 'THEFT'].sort_values(['ID'], ascending=False)[:10].plot.bar('Community Area')"
   ]
  },
  {
   "cell_type": "code",
   "execution_count": 22,
   "metadata": {},
   "outputs": [
    {
     "data": {
      "text/plain": [
       "<matplotlib.axes._subplots.AxesSubplot at 0x825f70>"
      ]
     },
     "execution_count": 22,
     "metadata": {},
     "output_type": "execute_result"
    },
    {
     "data": {
      "image/png": "[encoded data removed]",
      "text/plain": [
       "<Figure size 432x288 with 1 Axes>"
      ]
     },
     "metadata": {
      "needs_background": "light"
     },
     "output_type": "display_data"
    }
   ],
   "source": [
    "crime_17_type_by_ca[crime_17_type_by_ca['Primary Type'] == 'ROBBERY'].sort_values(['ID'], ascending=False)[:10].plot.bar('Community Area')"
   ]
  },
  {
   "cell_type": "code",
   "execution_count": 23,
   "metadata": {},
   "outputs": [
    {
     "data": {
      "text/plain": [
       "<matplotlib.axes._subplots.AxesSubplot at 0x871870>"
      ]
     },
     "execution_count": 23,
     "metadata": {},
     "output_type": "execute_result"
    },
    {
     "data": {
      "image/png": "[encoded data removed]",
      "text/plain": [
       "<Figure size 432x288 with 1 Axes>"
      ]
     },
     "metadata": {
      "needs_background": "light"
     },
     "output_type": "display_data"
    }
   ],
   "source": [
    "crime_17_type_by_ca[crime_17_type_by_ca['Primary Type'] == 'ASSAULT'].sort_values(['ID'], ascending=False)[:10].plot.bar('Community Area')"
   ]
  },
  {
   "cell_type": "markdown",
   "metadata": {},
   "source": [
    "Find the top 10 community areas in Chicago that suffered from arson, theft, robbery, and assault respectively in 2018"
   ]
  },
  {
   "cell_type": "code",
   "execution_count": 24,
   "metadata": {},
   "outputs": [],
   "source": [
    "crime_18_type_by_ca = crime_18.groupby(['Community Area', 'Primary Type'])['ID'].count().reset_index()"
   ]
  },
  {
   "cell_type": "code",
   "execution_count": 25,
   "metadata": {},
   "outputs": [
    {
     "data": {
      "text/plain": [
       "<matplotlib.axes._subplots.AxesSubplot at 0xa639d0>"
      ]
     },
     "execution_count": 25,
     "metadata": {},
     "output_type": "execute_result"
    },
    {
     "data": {
      "image/png": "[encoded data removed]",
      "text/plain": [
       "<Figure size 432x288 with 1 Axes>"
      ]
     },
     "metadata": {
      "needs_background": "light"
     },
     "output_type": "display_data"
    }
   ],
   "source": [
    "crime_18_type_by_ca[crime_18_type_by_ca['Primary Type'] == 'ARSON'].sort_values(['ID'], ascending=False)[:10].plot.bar('Community Area')"
   ]
  },
  {
   "cell_type": "code",
   "execution_count": 26,
   "metadata": {},
   "outputs": [
    {
     "data": {
      "text/plain": [
       "<matplotlib.axes._subplots.AxesSubplot at 0xa63cd0>"
      ]
     },
     "execution_count": 26,
     "metadata": {},
     "output_type": "execute_result"
    },
    {
     "data": {
      "image/png": "[encoded data removed]",
      "text/plain": [
       "<Figure size 432x288 with 1 Axes>"
      ]
     },
     "metadata": {
      "needs_background": "light"
     },
     "output_type": "display_data"
    }
   ],
   "source": [
    "crime_18_type_by_ca[crime_18_type_by_ca['Primary Type'] == 'THEFT'].sort_values(['ID'], ascending=False)[:10].plot.bar('Community Area')"
   ]
  },
  {
   "cell_type": "code",
   "execution_count": 27,
   "metadata": {},
   "outputs": [
    {
     "data": {
      "text/plain": [
       "<matplotlib.axes._subplots.AxesSubplot at 0xb05d10>"
      ]
     },
     "execution_count": 27,
     "metadata": {},
     "output_type": "execute_result"
    },
    {
     "data": {
      "image/png": "[encoded data removed]",
      "text/plain": [
       "<Figure size 432x288 with 1 Axes>"
      ]
     },
     "metadata": {
      "needs_background": "light"
     },
     "output_type": "display_data"
    }
   ],
   "source": [
    "crime_18_type_by_ca[crime_18_type_by_ca['Primary Type'] == 'ROBBERY'].sort_values(['ID'], ascending=False)[:10].plot.bar('Community Area')"
   ]
  },
  {
   "cell_type": "code",
   "execution_count": 28,
   "metadata": {},
   "outputs": [
    {
     "data": {
      "text/plain": [
       "<matplotlib.axes._subplots.AxesSubplot at 0xb5bc50>"
      ]
     },
     "execution_count": 28,
     "metadata": {},
     "output_type": "execute_result"
    },
    {
     "data": {
      "image/png": "[encoded data removed]",
      "text/plain": [
       "<Figure size 432x288 with 1 Axes>"
      ]
     },
     "metadata": {
      "needs_background": "light"
     },
     "output_type": "display_data"
    }
   ],
   "source": [
    "crime_18_type_by_ca[crime_18_type_by_ca['Primary Type'] == 'ASSAULT'].sort_values(['ID'], ascending=False)[:10].plot.bar('Community Area')"
   ]
  },
  {
   "cell_type": "markdown",
   "metadata": {},
   "source": [
    "Find the distribution of crime types in Hyde Park (Community Area No.41) in 2017 and 2018"
   ]
  },
  {
   "cell_type": "code",
   "execution_count": 29,
   "metadata": {},
   "outputs": [
    {
     "data": {
      "text/plain": [
       "<matplotlib.axes._subplots.AxesSubplot at 0xba5ed0>"
      ]
     },
     "execution_count": 29,
     "metadata": {},
     "output_type": "execute_result"
    },
    {
     "data": {
      "image/png": "[encoded data removed]",
      "text/plain": [
       "<Figure size 432x288 with 1 Axes>"
      ]
     },
     "metadata": {
      "needs_background": "light"
     },
     "output_type": "display_data"
    }
   ],
   "source": [
    "crime_17_type_by_ca[crime_17_type_by_ca['Community Area'] == 41][['Primary Type', 'ID']].plot.bar('Primary Type')"
   ]
  },
  {
   "cell_type": "code",
   "execution_count": 30,
   "metadata": {},
   "outputs": [
    {
     "data": {
      "text/plain": [
       "<matplotlib.axes._subplots.AxesSubplot at 0xc1e910>"
      ]
     },
     "execution_count": 30,
     "metadata": {},
     "output_type": "execute_result"
    },
    {
     "data": {
      "image/png": "[encoded data removed]",
      "text/plain": [
       "<Figure size 432x288 with 1 Axes>"
      ]
     },
     "metadata": {
      "needs_background": "light"
     },
     "output_type": "display_data"
    }
   ],
   "source": [
    "crime_18_type_by_ca[crime_18_type_by_ca['Community Area'] == 41][['Primary Type', 'ID']].plot.bar('Primary Type')"
   ]
  },
  {
   "cell_type": "markdown",
   "metadata": {},
   "source": [
    "Find the distribution of crime types in Washington Park (Community Area No.40) in 2017 and 2018"
   ]
  },
  {
   "cell_type": "code",
   "execution_count": 31,
   "metadata": {},
   "outputs": [
    {
     "data": {
      "text/plain": [
       "<matplotlib.axes._subplots.AxesSubplot at 0xd2e0f0>"
      ]
     },
     "execution_count": 31,
     "metadata": {},
     "output_type": "execute_result"
    },
    {
     "data": {
      "image/png": "[encoded data removed]",
      "text/plain": [
       "<Figure size 432x288 with 1 Axes>"
      ]
     },
     "metadata": {
      "needs_background": "light"
     },
     "output_type": "display_data"
    }
   ],
   "source": [
    "crime_17_type_by_ca[crime_17_type_by_ca['Community Area'] == 40][['Primary Type', 'ID']].plot.bar('Primary Type')"
   ]
  },
  {
   "cell_type": "code",
   "execution_count": 32,
   "metadata": {},
   "outputs": [
    {
     "data": {
      "text/plain": [
       "<matplotlib.axes._subplots.AxesSubplot at 0xe70eb0>"
      ]
     },
     "execution_count": 32,
     "metadata": {},
     "output_type": "execute_result"
    },
    {
     "data": {
      "image/png": "[encoded data removed]",
      "text/plain": [
       "<Figure size 432x288 with 1 Axes>"
      ]
     },
     "metadata": {
      "needs_background": "light"
     },
     "output_type": "display_data"
    }
   ],
   "source": [
    "crime_18_type_by_ca[crime_18_type_by_ca['Community Area'] == 40][['Primary Type', 'ID']].plot.bar('Primary Type')"
   ]
  },
  {
   "cell_type": "markdown",
   "metadata": {},
   "source": [
    "## Problem 2: Data Augmentation and APIs\n",
    "\n",
    "In this problem, I will use census API to combine the crime data with data on male population, white population, median income, and number of college degree holders in each neighborhood. I use American Community Survey 5-year estimates data, and the geographic unit in my analysis is the officially-designated community area in the City of Chicago\n",
    "<br>\n",
    "<br>\n",
    "Concerning the fact that many entries of crime data have missing value on the geographic coordinate, while very few entries have missing values on the community area, using community area as the geographic unit will be much more accurate and efficient. However, community area information is unavailable in the ACS data, and the most basic geographic level in ACS data is census tract. In order to match census tract number in ACS data to officially-designated community area number, I found the document \"2010 Tract to Community Area Equivalency File.csv\" on a third-party web blog <http://robparal.blogspot.com/2012/04/census-tracts-in-chicago-community.html>\n",
    "<br>\n",
    "<br>\n",
    "After data augmentation, I conduct a set of linear regressions of the number of certain crime in each neighborhood on the neighborhood's male population, white population, median income, and number of college degree holders"
   ]
  },
  {
   "cell_type": "markdown",
   "metadata": {},
   "source": [
    "Access the census data of all census tracts in the state of Illinois and Cook County (Cook County FIPS Code: 031)"
   ]
  },
  {
   "cell_type": "code",
   "execution_count": 33,
   "metadata": {},
   "outputs": [],
   "source": [
    "c = Census(\"15753347e41c32f4d6ba44471df9745032bc621e\")"
   ]
  },
  {
   "cell_type": "code",
   "execution_count": 34,
   "metadata": {},
   "outputs": [],
   "source": [
    "male_pop =c.acs5.state_county_tract(\"B01001_002E\", states.IL.fips, '031',Census.ALL)"
   ]
  },
  {
   "cell_type": "code",
   "execution_count": 35,
   "metadata": {},
   "outputs": [],
   "source": [
    "white_alone = c.acs5.state_county_tract(\"B01001A_001E\", states.IL.fips, '031', Census.ALL)"
   ]
  },
  {
   "cell_type": "code",
   "execution_count": 36,
   "metadata": {},
   "outputs": [],
   "source": [
    "median_income = c.acs5.state_county_tract(\"B06011_001E\", states.IL.fips, '031', Census.ALL)"
   ]
  },
  {
   "cell_type": "code",
   "execution_count": 37,
   "metadata": {},
   "outputs": [],
   "source": [
    "college_degree = c.acs5.state_county_tract(\"B06009_011E\", states.IL.fips, '031', Census.ALL)"
   ]
  },
  {
   "cell_type": "code",
   "execution_count": 38,
   "metadata": {},
   "outputs": [],
   "source": [
    "male_pop_df = pd.DataFrame(columns=['Male pop', 'Tract'])\n",
    "for row in male_pop:\n",
    "    male_pop_df = male_pop_df.append({'Male pop':row['B01001_002E'], 'Tract': row['tract']}, ignore_index=True)"
   ]
  },
  {
   "cell_type": "code",
   "execution_count": 39,
   "metadata": {},
   "outputs": [],
   "source": [
    "white_alone_df = pd.DataFrame(columns=['White pop', 'Tract'])\n",
    "for row in white_alone:\n",
    "    white_alone_df = white_alone_df.append({'White pop':row['B01001A_001E'], 'Tract': row['tract']}, ignore_index=True)"
   ]
  },
  {
   "cell_type": "code",
   "execution_count": 40,
   "metadata": {},
   "outputs": [],
   "source": [
    "median_income_df = pd.DataFrame(columns=['Median income', 'Tract'])\n",
    "for row in median_income:\n",
    "    median_income_df = median_income_df.append({'Median income':row['B06011_001E'], 'Tract': row['tract']}, ignore_index=True)"
   ]
  },
  {
   "cell_type": "code",
   "execution_count": 41,
   "metadata": {},
   "outputs": [],
   "source": [
    "college_df = pd.DataFrame(columns=['College degree holder', 'Tract'])\n",
    "for row in college_degree:\n",
    "    college_df = college_df.append({'College degree holder':row[\"B06009_011E\"], 'Tract': row['tract']}, ignore_index=True)"
   ]
  },
  {
   "cell_type": "markdown",
   "metadata": {},
   "source": [
    "Import the Tract to Community Area Equivalency File"
   ]
  },
  {
   "cell_type": "code",
   "execution_count": 42,
   "metadata": {},
   "outputs": [],
   "source": [
    "match = pd.read_csv('2010 Tract to Community Area Equivalency File.csv')"
   ]
  },
  {
   "cell_type": "code",
   "execution_count": 43,
   "metadata": {},
   "outputs": [],
   "source": [
    "match['TRACT'] = match['TRACT'].astype('str')"
   ]
  },
  {
   "cell_type": "code",
   "execution_count": 44,
   "metadata": {},
   "outputs": [],
   "source": [
    "match['TRACT'] = match['TRACT'].apply(lambda x: x.zfill(6))"
   ]
  },
  {
   "cell_type": "markdown",
   "metadata": {},
   "source": [
    "Match the tract number in ACS data to corresponding community area number"
   ]
  },
  {
   "cell_type": "code",
   "execution_count": 45,
   "metadata": {},
   "outputs": [],
   "source": [
    "match_dictionary = {}\n",
    "for index, row in match.iterrows():\n",
    "    match_dictionary[row['TRACT']] = row['CHGOCA']"
   ]
  },
  {
   "cell_type": "code",
   "execution_count": 46,
   "metadata": {},
   "outputs": [],
   "source": [
    "def find_neighborhood(item):\n",
    "    '''\n",
    "    Convert tract number to community area number\n",
    "    \n",
    "    Input: item(str)\n",
    "    Output: neighborhood(str)\n",
    "    '''\n",
    "    \n",
    "    if item in match_dictionary.keys():\n",
    "        neighborhood = match_dictionary[item]\n",
    "    else:\n",
    "        neighborhood = 'Not in Chicago'\n",
    "        \n",
    "    return neighborhood"
   ]
  },
  {
   "cell_type": "markdown",
   "metadata": {},
   "source": [
    "Drop the ACS data entries that do not match community areas in Chicago (Other cities/townships in Cook County)"
   ]
  },
  {
   "cell_type": "code",
   "execution_count": 47,
   "metadata": {},
   "outputs": [],
   "source": [
    "male_pop_df['Community Area'] = male_pop_df['Tract'].apply(lambda x: find_neighborhood(x))\n",
    "for index, row in male_pop_df.iterrows():\n",
    "    if row['Community Area'] == 'Not in Chicago':\n",
    "        male_pop_df.drop(index, inplace=True)\n",
    "        \n",
    "white_alone_df['Community Area'] = white_alone_df['Tract'].apply(lambda x: find_neighborhood(x))\n",
    "for index, row in white_alone_df.iterrows():\n",
    "    if row['Community Area'] == 'Not in Chicago':\n",
    "        white_alone_df.drop(index, inplace=True)\n",
    "        \n",
    "median_income_df['Community Area'] = median_income_df['Tract'].apply(lambda x: find_neighborhood(x))\n",
    "for index, row in median_income_df.iterrows():\n",
    "    if row['Community Area'] == 'Not in Chicago':\n",
    "        median_income_df.drop(index, inplace=True)\n",
    "        \n",
    "college_df['Community Area'] = college_df['Tract'].apply(lambda x: find_neighborhood(x))\n",
    "for index, row in college_df.iterrows():\n",
    "    if row['Community Area'] == 'Not in Chicago':\n",
    "        college_df.drop(index, inplace=True)"
   ]
  },
  {
   "cell_type": "markdown",
   "metadata": {},
   "source": [
    "Aggregate the ACS data to the level of community area"
   ]
  },
  {
   "cell_type": "code",
   "execution_count": 48,
   "metadata": {},
   "outputs": [],
   "source": [
    "male_pop_by_neighborhood = male_pop_df.groupby('Community Area').sum().reset_index()"
   ]
  },
  {
   "cell_type": "code",
   "execution_count": 49,
   "metadata": {},
   "outputs": [],
   "source": [
    "white_pop_by_neighborhood = white_alone_df.groupby('Community Area').sum().reset_index()"
   ]
  },
  {
   "cell_type": "code",
   "execution_count": 50,
   "metadata": {},
   "outputs": [],
   "source": [
    "median_inc_by_neighborhood = median_income_df.groupby('Community Area').median().reset_index()"
   ]
  },
  {
   "cell_type": "code",
   "execution_count": 51,
   "metadata": {},
   "outputs": [],
   "source": [
    "college_degree_by_neighborhood = college_df.groupby('Community Area').sum().reset_index()"
   ]
  },
  {
   "cell_type": "markdown",
   "metadata": {},
   "source": [
    "Merge all community-area-level ACS data to one dataframe"
   ]
  },
  {
   "cell_type": "code",
   "execution_count": 52,
   "metadata": {},
   "outputs": [],
   "source": [
    "cas = pd.merge(male_pop_by_neighborhood, white_pop_by_neighborhood, on='Community Area', how='outer')\n",
    "cas = pd.merge(cas, median_inc_by_neighborhood, on='Community Area', how='outer')\n",
    "cas = pd.merge(cas, college_degree_by_neighborhood, on='Community Area', how='outer')"
   ]
  },
  {
   "cell_type": "markdown",
   "metadata": {},
   "source": [
    "Merge the community-area-level ACS data with crime data in 2017, and 2018, respectively"
   ]
  },
  {
   "cell_type": "code",
   "execution_count": 53,
   "metadata": {},
   "outputs": [],
   "source": [
    "merged_17 = pd.merge(crime_17, cas, on='Community Area', how='outer')"
   ]
  },
  {
   "cell_type": "code",
   "execution_count": 54,
   "metadata": {},
   "outputs": [],
   "source": [
    "merged_18 = pd.merge(crime_18, cas, on='Community Area', how='outer')"
   ]
  },
  {
   "cell_type": "code",
   "execution_count": 55,
   "metadata": {},
   "outputs": [],
   "source": [
    "merged_17 = merged_17.dropna(subset=['Male pop', 'White pop', 'Median income', 'College degree holder'])\n",
    "merged_18 = merged_18.dropna(subset=['Male pop', 'White pop', 'Median income', 'College degree holder'])"
   ]
  },
  {
   "cell_type": "markdown",
   "metadata": {},
   "source": [
    "Find the type of community area that have reports of battery, using linear regression model"
   ]
  },
  {
   "cell_type": "code",
   "execution_count": 56,
   "metadata": {},
   "outputs": [],
   "source": [
    "battery_count_17 = merged_17[merged_17['Primary Type'] == 'BATTERY'].groupby('Community Area')['ID'].count()\n",
    "battery_count_17 = battery_count_17.reset_index()\n",
    "battery_model_17 = pd.merge(battery_count_17, cas, on='Community Area', how='outer')"
   ]
  },
  {
   "cell_type": "code",
   "execution_count": 57,
   "metadata": {},
   "outputs": [],
   "source": [
    "X_cols = ['Male pop', 'White pop', 'Median income', 'College degree holder']\n",
    "Y_col = ['ID']\n",
    "model_1 = sm.OLS(battery_model_17[Y_col], battery_model_17[X_cols])\n",
    "result_1 = model_1.fit()"
   ]
  },
  {
   "cell_type": "markdown",
   "metadata": {},
   "source": [
    "According to the following summary of the OLS result, community areas with more male populations and less white populations tend to have more reports of \"Battery\""
   ]
  },
  {
   "cell_type": "code",
   "execution_count": 58,
   "metadata": {},
   "outputs": [
    {
     "data": {
      "text/html": [
       "<table class=\"simpletable\">\n",
       "<caption>OLS Regression Results</caption>\n",
       "<tr>\n",
       "  <th>Dep. Variable:</th>           <td>ID</td>        <th>  R-squared:         </th> <td>   0.891</td>\n",
       "</tr>\n",
       "<tr>\n",
       "  <th>Model:</th>                   <td>OLS</td>       <th>  Adj. R-squared:    </th> <td>   0.885</td>\n",
       "</tr>\n",
       "<tr>\n",
       "  <th>Method:</th>             <td>Least Squares</td>  <th>  F-statistic:       </th> <td>   148.8</td>\n",
       "</tr>\n",
       "<tr>\n",
       "  <th>Date:</th>             <td>Mon, 08 Apr 2019</td> <th>  Prob (F-statistic):</th> <td>2.69e-34</td>\n",
       "</tr>\n",
       "<tr>\n",
       "  <th>Time:</th>                 <td>21:07:08</td>     <th>  Log-Likelihood:    </th> <td> -545.41</td>\n",
       "</tr>\n",
       "<tr>\n",
       "  <th>No. Observations:</th>      <td>    77</td>      <th>  AIC:               </th> <td>   1099.</td>\n",
       "</tr>\n",
       "<tr>\n",
       "  <th>Df Residuals:</th>          <td>    73</td>      <th>  BIC:               </th> <td>   1108.</td>\n",
       "</tr>\n",
       "<tr>\n",
       "  <th>Df Model:</th>              <td>     4</td>      <th>                     </th>     <td> </td>   \n",
       "</tr>\n",
       "<tr>\n",
       "  <th>Covariance Type:</th>      <td>nonrobust</td>    <th>                     </th>     <td> </td>   \n",
       "</tr>\n",
       "</table>\n",
       "<table class=\"simpletable\">\n",
       "<tr>\n",
       "            <td></td>               <th>coef</th>     <th>std err</th>      <th>t</th>      <th>P>|t|</th>  <th>[0.025</th>    <th>0.975]</th>  \n",
       "</tr>\n",
       "<tr>\n",
       "  <th>Male pop</th>              <td>    0.0738</td> <td>    0.004</td> <td>   17.923</td> <td> 0.000</td> <td>    0.066</td> <td>    0.082</td>\n",
       "</tr>\n",
       "<tr>\n",
       "  <th>White pop</th>             <td>   -0.0510</td> <td>    0.004</td> <td>  -13.146</td> <td> 0.000</td> <td>   -0.059</td> <td>   -0.043</td>\n",
       "</tr>\n",
       "<tr>\n",
       "  <th>Median income</th>         <td>   -0.0007</td> <td>    0.002</td> <td>   -0.329</td> <td> 0.743</td> <td>   -0.005</td> <td>    0.004</td>\n",
       "</tr>\n",
       "<tr>\n",
       "  <th>College degree holder</th> <td>    0.1027</td> <td>    0.026</td> <td>    4.017</td> <td> 0.000</td> <td>    0.052</td> <td>    0.154</td>\n",
       "</tr>\n",
       "</table>\n",
       "<table class=\"simpletable\">\n",
       "<tr>\n",
       "  <th>Omnibus:</th>       <td> 3.517</td> <th>  Durbin-Watson:     </th> <td>   1.997</td>\n",
       "</tr>\n",
       "<tr>\n",
       "  <th>Prob(Omnibus):</th> <td> 0.172</td> <th>  Jarque-Bera (JB):  </th> <td>   2.742</td>\n",
       "</tr>\n",
       "<tr>\n",
       "  <th>Skew:</th>          <td> 0.421</td> <th>  Prob(JB):          </th> <td>   0.254</td>\n",
       "</tr>\n",
       "<tr>\n",
       "  <th>Kurtosis:</th>      <td> 3.380</td> <th>  Cond. No.          </th> <td>    32.8</td>\n",
       "</tr>\n",
       "</table><br/><br/>Warnings:<br/>[1] Standard Errors assume that the covariance matrix of the errors is correctly specified."
      ],
      "text/plain": [
       "<class 'statsmodels.iolib.summary.Summary'>\n",
       "\"\"\"\n",
       "                            OLS Regression Results                            \n",
       "==============================================================================\n",
       "Dep. Variable:                     ID   R-squared:                       0.891\n",
       "Model:                            OLS   Adj. R-squared:                  0.885\n",
       "Method:                 Least Squares   F-statistic:                     148.8\n",
       "Date:                Mon, 08 Apr 2019   Prob (F-statistic):           2.69e-34\n",
       "Time:                        21:07:08   Log-Likelihood:                -545.41\n",
       "No. Observations:                  77   AIC:                             1099.\n",
       "Df Residuals:                      73   BIC:                             1108.\n",
       "Df Model:                           4                                         \n",
       "Covariance Type:            nonrobust                                         \n",
       "=========================================================================================\n",
       "                            coef    std err          t      P>|t|      [0.025      0.975]\n",
       "-----------------------------------------------------------------------------------------\n",
       "Male pop                  0.0738      0.004     17.923      0.000       0.066       0.082\n",
       "White pop                -0.0510      0.004    -13.146      0.000      -0.059      -0.043\n",
       "Median income            -0.0007      0.002     -0.329      0.743      -0.005       0.004\n",
       "College degree holder     0.1027      0.026      4.017      0.000       0.052       0.154\n",
       "==============================================================================\n",
       "Omnibus:                        3.517   Durbin-Watson:                   1.997\n",
       "Prob(Omnibus):                  0.172   Jarque-Bera (JB):                2.742\n",
       "Skew:                           0.421   Prob(JB):                        0.254\n",
       "Kurtosis:                       3.380   Cond. No.                         32.8\n",
       "==============================================================================\n",
       "\n",
       "Warnings:\n",
       "[1] Standard Errors assume that the covariance matrix of the errors is correctly specified.\n",
       "\"\"\""
      ]
     },
     "execution_count": 58,
     "metadata": {},
     "output_type": "execute_result"
    }
   ],
   "source": [
    "result_1.summary()"
   ]
  },
  {
   "cell_type": "markdown",
   "metadata": {},
   "source": [
    "Find the type of community area that have reports of homicide, using linear regression model"
   ]
  },
  {
   "cell_type": "code",
   "execution_count": 59,
   "metadata": {},
   "outputs": [],
   "source": [
    "hom_count_17 = merged_17[merged_17['Primary Type'] == 'HOMICIDE'].groupby('Community Area')['ID'].count()\n",
    "hom_count_17 = hom_count_17.reset_index()\n",
    "hom_model_17 = pd.merge(hom_count_17, cas, on='Community Area', how='outer')\n",
    "hom_model_17 = hom_model_17.dropna()\n",
    "X_cols = ['Male pop', 'White pop', 'Median income', 'College degree holder']\n",
    "Y_col = ['ID']\n",
    "model_2 = sm.OLS(hom_model_17[Y_col], hom_model_17[X_cols])\n",
    "result_2 = model_2.fit()"
   ]
  },
  {
   "cell_type": "markdown",
   "metadata": {},
   "source": [
    "According to the following summary of the OLS result, community areas with more male populations and less white populations tend to have more reports of \"Homicide\""
   ]
  },
  {
   "cell_type": "code",
   "execution_count": 60,
   "metadata": {},
   "outputs": [
    {
     "data": {
      "text/html": [
       "<table class=\"simpletable\">\n",
       "<caption>OLS Regression Results</caption>\n",
       "<tr>\n",
       "  <th>Dep. Variable:</th>           <td>ID</td>        <th>  R-squared:         </th> <td>   0.825</td>\n",
       "</tr>\n",
       "<tr>\n",
       "  <th>Model:</th>                   <td>OLS</td>       <th>  Adj. R-squared:    </th> <td>   0.814</td>\n",
       "</tr>\n",
       "<tr>\n",
       "  <th>Method:</th>             <td>Least Squares</td>  <th>  F-statistic:       </th> <td>   73.08</td>\n",
       "</tr>\n",
       "<tr>\n",
       "  <th>Date:</th>             <td>Mon, 08 Apr 2019</td> <th>  Prob (F-statistic):</th> <td>9.06e-23</td>\n",
       "</tr>\n",
       "<tr>\n",
       "  <th>Time:</th>                 <td>21:07:15</td>     <th>  Log-Likelihood:    </th> <td> -222.31</td>\n",
       "</tr>\n",
       "<tr>\n",
       "  <th>No. Observations:</th>      <td>    66</td>      <th>  AIC:               </th> <td>   452.6</td>\n",
       "</tr>\n",
       "<tr>\n",
       "  <th>Df Residuals:</th>          <td>    62</td>      <th>  BIC:               </th> <td>   461.4</td>\n",
       "</tr>\n",
       "<tr>\n",
       "  <th>Df Model:</th>              <td>     4</td>      <th>                     </th>     <td> </td>   \n",
       "</tr>\n",
       "<tr>\n",
       "  <th>Covariance Type:</th>      <td>nonrobust</td>    <th>                     </th>     <td> </td>   \n",
       "</tr>\n",
       "</table>\n",
       "<table class=\"simpletable\">\n",
       "<tr>\n",
       "            <td></td>               <th>coef</th>     <th>std err</th>      <th>t</th>      <th>P>|t|</th>  <th>[0.025</th>    <th>0.975]</th>  \n",
       "</tr>\n",
       "<tr>\n",
       "  <th>Male pop</th>              <td>    0.0015</td> <td>    0.000</td> <td>   13.341</td> <td> 0.000</td> <td>    0.001</td> <td>    0.002</td>\n",
       "</tr>\n",
       "<tr>\n",
       "  <th>White pop</th>             <td>   -0.0011</td> <td> 9.85e-05</td> <td>  -11.444</td> <td> 0.000</td> <td>   -0.001</td> <td>   -0.001</td>\n",
       "</tr>\n",
       "<tr>\n",
       "  <th>Median income</th>         <td>-3.316e-05</td> <td> 7.36e-05</td> <td>   -0.451</td> <td> 0.654</td> <td>   -0.000</td> <td>    0.000</td>\n",
       "</tr>\n",
       "<tr>\n",
       "  <th>College degree holder</th> <td>    0.0015</td> <td>    0.001</td> <td>    2.251</td> <td> 0.028</td> <td>    0.000</td> <td>    0.003</td>\n",
       "</tr>\n",
       "</table>\n",
       "<table class=\"simpletable\">\n",
       "<tr>\n",
       "  <th>Omnibus:</th>       <td> 9.398</td> <th>  Durbin-Watson:     </th> <td>   2.185</td>\n",
       "</tr>\n",
       "<tr>\n",
       "  <th>Prob(Omnibus):</th> <td> 0.009</td> <th>  Jarque-Bera (JB):  </th> <td>   9.518</td>\n",
       "</tr>\n",
       "<tr>\n",
       "  <th>Skew:</th>          <td> 0.716</td> <th>  Prob(JB):          </th> <td> 0.00858</td>\n",
       "</tr>\n",
       "<tr>\n",
       "  <th>Kurtosis:</th>      <td> 4.188</td> <th>  Cond. No.          </th> <td>    30.7</td>\n",
       "</tr>\n",
       "</table><br/><br/>Warnings:<br/>[1] Standard Errors assume that the covariance matrix of the errors is correctly specified."
      ],
      "text/plain": [
       "<class 'statsmodels.iolib.summary.Summary'>\n",
       "\"\"\"\n",
       "                            OLS Regression Results                            \n",
       "==============================================================================\n",
       "Dep. Variable:                     ID   R-squared:                       0.825\n",
       "Model:                            OLS   Adj. R-squared:                  0.814\n",
       "Method:                 Least Squares   F-statistic:                     73.08\n",
       "Date:                Mon, 08 Apr 2019   Prob (F-statistic):           9.06e-23\n",
       "Time:                        21:07:15   Log-Likelihood:                -222.31\n",
       "No. Observations:                  66   AIC:                             452.6\n",
       "Df Residuals:                      62   BIC:                             461.4\n",
       "Df Model:                           4                                         \n",
       "Covariance Type:            nonrobust                                         \n",
       "=========================================================================================\n",
       "                            coef    std err          t      P>|t|      [0.025      0.975]\n",
       "-----------------------------------------------------------------------------------------\n",
       "Male pop                  0.0015      0.000     13.341      0.000       0.001       0.002\n",
       "White pop                -0.0011   9.85e-05    -11.444      0.000      -0.001      -0.001\n",
       "Median income         -3.316e-05   7.36e-05     -0.451      0.654      -0.000       0.000\n",
       "College degree holder     0.0015      0.001      2.251      0.028       0.000       0.003\n",
       "==============================================================================\n",
       "Omnibus:                        9.398   Durbin-Watson:                   2.185\n",
       "Prob(Omnibus):                  0.009   Jarque-Bera (JB):                9.518\n",
       "Skew:                           0.716   Prob(JB):                      0.00858\n",
       "Kurtosis:                       4.188   Cond. No.                         30.7\n",
       "==============================================================================\n",
       "\n",
       "Warnings:\n",
       "[1] Standard Errors assume that the covariance matrix of the errors is correctly specified.\n",
       "\"\"\""
      ]
     },
     "execution_count": 60,
     "metadata": {},
     "output_type": "execute_result"
    }
   ],
   "source": [
    "result_2.summary()"
   ]
  },
  {
   "cell_type": "markdown",
   "metadata": {},
   "source": [
    "According to the same models using the 2018 data, it does not change over time"
   ]
  },
  {
   "cell_type": "code",
   "execution_count": 61,
   "metadata": {},
   "outputs": [
    {
     "data": {
      "text/html": [
       "<table class=\"simpletable\">\n",
       "<caption>OLS Regression Results</caption>\n",
       "<tr>\n",
       "  <th>Dep. Variable:</th>           <td>ID</td>        <th>  R-squared:         </th> <td>   0.892</td>\n",
       "</tr>\n",
       "<tr>\n",
       "  <th>Model:</th>                   <td>OLS</td>       <th>  Adj. R-squared:    </th> <td>   0.886</td>\n",
       "</tr>\n",
       "<tr>\n",
       "  <th>Method:</th>             <td>Least Squares</td>  <th>  F-statistic:       </th> <td>   150.7</td>\n",
       "</tr>\n",
       "<tr>\n",
       "  <th>Date:</th>             <td>Mon, 08 Apr 2019</td> <th>  Prob (F-statistic):</th> <td>1.79e-34</td>\n",
       "</tr>\n",
       "<tr>\n",
       "  <th>Time:</th>                 <td>21:07:23</td>     <th>  Log-Likelihood:    </th> <td> -545.51</td>\n",
       "</tr>\n",
       "<tr>\n",
       "  <th>No. Observations:</th>      <td>    77</td>      <th>  AIC:               </th> <td>   1099.</td>\n",
       "</tr>\n",
       "<tr>\n",
       "  <th>Df Residuals:</th>          <td>    73</td>      <th>  BIC:               </th> <td>   1108.</td>\n",
       "</tr>\n",
       "<tr>\n",
       "  <th>Df Model:</th>              <td>     4</td>      <th>                     </th>     <td> </td>   \n",
       "</tr>\n",
       "<tr>\n",
       "  <th>Covariance Type:</th>      <td>nonrobust</td>    <th>                     </th>     <td> </td>   \n",
       "</tr>\n",
       "</table>\n",
       "<table class=\"simpletable\">\n",
       "<tr>\n",
       "            <td></td>               <th>coef</th>     <th>std err</th>      <th>t</th>      <th>P>|t|</th>  <th>[0.025</th>    <th>0.975]</th>  \n",
       "</tr>\n",
       "<tr>\n",
       "  <th>Male pop</th>              <td>    0.0736</td> <td>    0.004</td> <td>   17.853</td> <td> 0.000</td> <td>    0.065</td> <td>    0.082</td>\n",
       "</tr>\n",
       "<tr>\n",
       "  <th>White pop</th>             <td>   -0.0505</td> <td>    0.004</td> <td>  -12.999</td> <td> 0.000</td> <td>   -0.058</td> <td>   -0.043</td>\n",
       "</tr>\n",
       "<tr>\n",
       "  <th>Median income</th>         <td>   -0.0007</td> <td>    0.002</td> <td>   -0.321</td> <td> 0.749</td> <td>   -0.005</td> <td>    0.004</td>\n",
       "</tr>\n",
       "<tr>\n",
       "  <th>College degree holder</th> <td>    0.1039</td> <td>    0.026</td> <td>    4.058</td> <td> 0.000</td> <td>    0.053</td> <td>    0.155</td>\n",
       "</tr>\n",
       "</table>\n",
       "<table class=\"simpletable\">\n",
       "<tr>\n",
       "  <th>Omnibus:</th>       <td> 5.208</td> <th>  Durbin-Watson:     </th> <td>   1.934</td>\n",
       "</tr>\n",
       "<tr>\n",
       "  <th>Prob(Omnibus):</th> <td> 0.074</td> <th>  Jarque-Bera (JB):  </th> <td>   4.389</td>\n",
       "</tr>\n",
       "<tr>\n",
       "  <th>Skew:</th>          <td> 0.514</td> <th>  Prob(JB):          </th> <td>   0.111</td>\n",
       "</tr>\n",
       "<tr>\n",
       "  <th>Kurtosis:</th>      <td> 3.558</td> <th>  Cond. No.          </th> <td>    32.8</td>\n",
       "</tr>\n",
       "</table><br/><br/>Warnings:<br/>[1] Standard Errors assume that the covariance matrix of the errors is correctly specified."
      ],
      "text/plain": [
       "<class 'statsmodels.iolib.summary.Summary'>\n",
       "\"\"\"\n",
       "                            OLS Regression Results                            \n",
       "==============================================================================\n",
       "Dep. Variable:                     ID   R-squared:                       0.892\n",
       "Model:                            OLS   Adj. R-squared:                  0.886\n",
       "Method:                 Least Squares   F-statistic:                     150.7\n",
       "Date:                Mon, 08 Apr 2019   Prob (F-statistic):           1.79e-34\n",
       "Time:                        21:07:23   Log-Likelihood:                -545.51\n",
       "No. Observations:                  77   AIC:                             1099.\n",
       "Df Residuals:                      73   BIC:                             1108.\n",
       "Df Model:                           4                                         \n",
       "Covariance Type:            nonrobust                                         \n",
       "=========================================================================================\n",
       "                            coef    std err          t      P>|t|      [0.025      0.975]\n",
       "-----------------------------------------------------------------------------------------\n",
       "Male pop                  0.0736      0.004     17.853      0.000       0.065       0.082\n",
       "White pop                -0.0505      0.004    -12.999      0.000      -0.058      -0.043\n",
       "Median income            -0.0007      0.002     -0.321      0.749      -0.005       0.004\n",
       "College degree holder     0.1039      0.026      4.058      0.000       0.053       0.155\n",
       "==============================================================================\n",
       "Omnibus:                        5.208   Durbin-Watson:                   1.934\n",
       "Prob(Omnibus):                  0.074   Jarque-Bera (JB):                4.389\n",
       "Skew:                           0.514   Prob(JB):                        0.111\n",
       "Kurtosis:                       3.558   Cond. No.                         32.8\n",
       "==============================================================================\n",
       "\n",
       "Warnings:\n",
       "[1] Standard Errors assume that the covariance matrix of the errors is correctly specified.\n",
       "\"\"\""
      ]
     },
     "execution_count": 61,
     "metadata": {},
     "output_type": "execute_result"
    }
   ],
   "source": [
    "battery_count_18 = merged_18[merged_18['Primary Type'] == 'BATTERY'].groupby('Community Area')['ID'].count()\n",
    "battery_count_18 = battery_count_18.reset_index()\n",
    "battery_model_18 = pd.merge(battery_count_18, cas, on='Community Area', how='outer')\n",
    "battery_model_18 = battery_model_18.dropna()\n",
    "model_3 = sm.OLS(battery_model_18[Y_col], battery_model_18[X_cols])\n",
    "result_3 = model_3.fit()\n",
    "result_3.summary()"
   ]
  },
  {
   "cell_type": "code",
   "execution_count": 62,
   "metadata": {},
   "outputs": [
    {
     "data": {
      "text/html": [
       "<table class=\"simpletable\">\n",
       "<caption>OLS Regression Results</caption>\n",
       "<tr>\n",
       "  <th>Dep. Variable:</th>           <td>ID</td>        <th>  R-squared:         </th> <td>   0.788</td>\n",
       "</tr>\n",
       "<tr>\n",
       "  <th>Model:</th>                   <td>OLS</td>       <th>  Adj. R-squared:    </th> <td>   0.775</td>\n",
       "</tr>\n",
       "<tr>\n",
       "  <th>Method:</th>             <td>Least Squares</td>  <th>  F-statistic:       </th> <td>   58.55</td>\n",
       "</tr>\n",
       "<tr>\n",
       "  <th>Date:</th>             <td>Mon, 08 Apr 2019</td> <th>  Prob (F-statistic):</th> <td>1.55e-20</td>\n",
       "</tr>\n",
       "<tr>\n",
       "  <th>Time:</th>                 <td>21:07:28</td>     <th>  Log-Likelihood:    </th> <td> -218.06</td>\n",
       "</tr>\n",
       "<tr>\n",
       "  <th>No. Observations:</th>      <td>    67</td>      <th>  AIC:               </th> <td>   444.1</td>\n",
       "</tr>\n",
       "<tr>\n",
       "  <th>Df Residuals:</th>          <td>    63</td>      <th>  BIC:               </th> <td>   452.9</td>\n",
       "</tr>\n",
       "<tr>\n",
       "  <th>Df Model:</th>              <td>     4</td>      <th>                     </th>     <td> </td>   \n",
       "</tr>\n",
       "<tr>\n",
       "  <th>Covariance Type:</th>      <td>nonrobust</td>    <th>                     </th>     <td> </td>   \n",
       "</tr>\n",
       "</table>\n",
       "<table class=\"simpletable\">\n",
       "<tr>\n",
       "            <td></td>               <th>coef</th>     <th>std err</th>      <th>t</th>      <th>P>|t|</th>  <th>[0.025</th>    <th>0.975]</th>  \n",
       "</tr>\n",
       "<tr>\n",
       "  <th>Male pop</th>              <td>    0.0012</td> <td> 9.25e-05</td> <td>   12.518</td> <td> 0.000</td> <td>    0.001</td> <td>    0.001</td>\n",
       "</tr>\n",
       "<tr>\n",
       "  <th>White pop</th>             <td>   -0.0009</td> <td> 9.02e-05</td> <td>   -9.597</td> <td> 0.000</td> <td>   -0.001</td> <td>   -0.001</td>\n",
       "</tr>\n",
       "<tr>\n",
       "  <th>Median income</th>         <td> 1.049e-05</td> <td> 5.14e-05</td> <td>    0.204</td> <td> 0.839</td> <td>-9.22e-05</td> <td>    0.000</td>\n",
       "</tr>\n",
       "<tr>\n",
       "  <th>College degree holder</th> <td>    0.0009</td> <td>    0.001</td> <td>    1.616</td> <td> 0.111</td> <td>   -0.000</td> <td>    0.002</td>\n",
       "</tr>\n",
       "</table>\n",
       "<table class=\"simpletable\">\n",
       "<tr>\n",
       "  <th>Omnibus:</th>       <td>13.185</td> <th>  Durbin-Watson:     </th> <td>   1.645</td>\n",
       "</tr>\n",
       "<tr>\n",
       "  <th>Prob(Omnibus):</th> <td> 0.001</td> <th>  Jarque-Bera (JB):  </th> <td>  14.622</td>\n",
       "</tr>\n",
       "<tr>\n",
       "  <th>Skew:</th>          <td> 0.927</td> <th>  Prob(JB):          </th> <td>0.000668</td>\n",
       "</tr>\n",
       "<tr>\n",
       "  <th>Kurtosis:</th>      <td> 4.342</td> <th>  Cond. No.          </th> <td>    31.7</td>\n",
       "</tr>\n",
       "</table><br/><br/>Warnings:<br/>[1] Standard Errors assume that the covariance matrix of the errors is correctly specified."
      ],
      "text/plain": [
       "<class 'statsmodels.iolib.summary.Summary'>\n",
       "\"\"\"\n",
       "                            OLS Regression Results                            \n",
       "==============================================================================\n",
       "Dep. Variable:                     ID   R-squared:                       0.788\n",
       "Model:                            OLS   Adj. R-squared:                  0.775\n",
       "Method:                 Least Squares   F-statistic:                     58.55\n",
       "Date:                Mon, 08 Apr 2019   Prob (F-statistic):           1.55e-20\n",
       "Time:                        21:07:28   Log-Likelihood:                -218.06\n",
       "No. Observations:                  67   AIC:                             444.1\n",
       "Df Residuals:                      63   BIC:                             452.9\n",
       "Df Model:                           4                                         \n",
       "Covariance Type:            nonrobust                                         \n",
       "=========================================================================================\n",
       "                            coef    std err          t      P>|t|      [0.025      0.975]\n",
       "-----------------------------------------------------------------------------------------\n",
       "Male pop                  0.0012   9.25e-05     12.518      0.000       0.001       0.001\n",
       "White pop                -0.0009   9.02e-05     -9.597      0.000      -0.001      -0.001\n",
       "Median income          1.049e-05   5.14e-05      0.204      0.839   -9.22e-05       0.000\n",
       "College degree holder     0.0009      0.001      1.616      0.111      -0.000       0.002\n",
       "==============================================================================\n",
       "Omnibus:                       13.185   Durbin-Watson:                   1.645\n",
       "Prob(Omnibus):                  0.001   Jarque-Bera (JB):               14.622\n",
       "Skew:                           0.927   Prob(JB):                     0.000668\n",
       "Kurtosis:                       4.342   Cond. No.                         31.7\n",
       "==============================================================================\n",
       "\n",
       "Warnings:\n",
       "[1] Standard Errors assume that the covariance matrix of the errors is correctly specified.\n",
       "\"\"\""
      ]
     },
     "execution_count": 62,
     "metadata": {},
     "output_type": "execute_result"
    }
   ],
   "source": [
    "hom_count_18 = merged_18[merged_18['Primary Type'] == 'HOMICIDE'].groupby('Community Area')['ID'].count()\n",
    "hom_count_18 = hom_count_18.reset_index()\n",
    "hom_model_18 = pd.merge(hom_count_18, cas, on='Community Area', how='outer')\n",
    "hom_model_18 = hom_model_18.dropna()\n",
    "X_cols = ['Male pop', 'White pop', 'Median income', 'College degree holder']\n",
    "Y_col = ['ID']\n",
    "model_4 = sm.OLS(hom_model_18[Y_col], hom_model_18[X_cols])\n",
    "result_4 = model_4.fit()\n",
    "result_4.summary()"
   ]
  },
  {
   "cell_type": "markdown",
   "metadata": {},
   "source": [
    "Find the type of community area that have reports of 'Deceptive Practice', using linear regression model\n",
    "<br>\n",
    "According to the following OLS model, community areas that have more college degree holders tend to have more reports on \"Deceptive Practice\""
   ]
  },
  {
   "cell_type": "code",
   "execution_count": 63,
   "metadata": {},
   "outputs": [
    {
     "data": {
      "text/html": [
       "<table class=\"simpletable\">\n",
       "<caption>OLS Regression Results</caption>\n",
       "<tr>\n",
       "  <th>Dep. Variable:</th>           <td>ID</td>        <th>  R-squared:         </th> <td>   0.660</td>\n",
       "</tr>\n",
       "<tr>\n",
       "  <th>Model:</th>                   <td>OLS</td>       <th>  Adj. R-squared:    </th> <td>   0.641</td>\n",
       "</tr>\n",
       "<tr>\n",
       "  <th>Method:</th>             <td>Least Squares</td>  <th>  F-statistic:       </th> <td>   35.43</td>\n",
       "</tr>\n",
       "<tr>\n",
       "  <th>Date:</th>             <td>Mon, 08 Apr 2019</td> <th>  Prob (F-statistic):</th> <td>1.98e-16</td>\n",
       "</tr>\n",
       "<tr>\n",
       "  <th>Time:</th>                 <td>21:07:31</td>     <th>  Log-Likelihood:    </th> <td> -527.76</td>\n",
       "</tr>\n",
       "<tr>\n",
       "  <th>No. Observations:</th>      <td>    77</td>      <th>  AIC:               </th> <td>   1064.</td>\n",
       "</tr>\n",
       "<tr>\n",
       "  <th>Df Residuals:</th>          <td>    73</td>      <th>  BIC:               </th> <td>   1073.</td>\n",
       "</tr>\n",
       "<tr>\n",
       "  <th>Df Model:</th>              <td>     4</td>      <th>                     </th>     <td> </td>   \n",
       "</tr>\n",
       "<tr>\n",
       "  <th>Covariance Type:</th>      <td>nonrobust</td>    <th>                     </th>     <td> </td>   \n",
       "</tr>\n",
       "</table>\n",
       "<table class=\"simpletable\">\n",
       "<tr>\n",
       "            <td></td>               <th>coef</th>     <th>std err</th>      <th>t</th>      <th>P>|t|</th>  <th>[0.025</th>    <th>0.975]</th>  \n",
       "</tr>\n",
       "<tr>\n",
       "  <th>Male pop</th>              <td>    0.0086</td> <td>    0.003</td> <td>    2.619</td> <td> 0.011</td> <td>    0.002</td> <td>    0.015</td>\n",
       "</tr>\n",
       "<tr>\n",
       "  <th>White pop</th>             <td>   -0.0079</td> <td>    0.003</td> <td>   -2.573</td> <td> 0.012</td> <td>   -0.014</td> <td>   -0.002</td>\n",
       "</tr>\n",
       "<tr>\n",
       "  <th>Median income</th>         <td>    0.0012</td> <td>    0.002</td> <td>    0.660</td> <td> 0.511</td> <td>   -0.002</td> <td>    0.005</td>\n",
       "</tr>\n",
       "<tr>\n",
       "  <th>College degree holder</th> <td>    0.0825</td> <td>    0.020</td> <td>    4.056</td> <td> 0.000</td> <td>    0.042</td> <td>    0.123</td>\n",
       "</tr>\n",
       "</table>\n",
       "<table class=\"simpletable\">\n",
       "<tr>\n",
       "  <th>Omnibus:</th>       <td>106.621</td> <th>  Durbin-Watson:     </th> <td>   2.139</td>\n",
       "</tr>\n",
       "<tr>\n",
       "  <th>Prob(Omnibus):</th> <td> 0.000</td>  <th>  Jarque-Bera (JB):  </th> <td>1963.489</td>\n",
       "</tr>\n",
       "<tr>\n",
       "  <th>Skew:</th>          <td> 4.483</td>  <th>  Prob(JB):          </th> <td>    0.00</td>\n",
       "</tr>\n",
       "<tr>\n",
       "  <th>Kurtosis:</th>      <td>26.057</td>  <th>  Cond. No.          </th> <td>    32.8</td>\n",
       "</tr>\n",
       "</table><br/><br/>Warnings:<br/>[1] Standard Errors assume that the covariance matrix of the errors is correctly specified."
      ],
      "text/plain": [
       "<class 'statsmodels.iolib.summary.Summary'>\n",
       "\"\"\"\n",
       "                            OLS Regression Results                            \n",
       "==============================================================================\n",
       "Dep. Variable:                     ID   R-squared:                       0.660\n",
       "Model:                            OLS   Adj. R-squared:                  0.641\n",
       "Method:                 Least Squares   F-statistic:                     35.43\n",
       "Date:                Mon, 08 Apr 2019   Prob (F-statistic):           1.98e-16\n",
       "Time:                        21:07:31   Log-Likelihood:                -527.76\n",
       "No. Observations:                  77   AIC:                             1064.\n",
       "Df Residuals:                      73   BIC:                             1073.\n",
       "Df Model:                           4                                         \n",
       "Covariance Type:            nonrobust                                         \n",
       "=========================================================================================\n",
       "                            coef    std err          t      P>|t|      [0.025      0.975]\n",
       "-----------------------------------------------------------------------------------------\n",
       "Male pop                  0.0086      0.003      2.619      0.011       0.002       0.015\n",
       "White pop                -0.0079      0.003     -2.573      0.012      -0.014      -0.002\n",
       "Median income             0.0012      0.002      0.660      0.511      -0.002       0.005\n",
       "College degree holder     0.0825      0.020      4.056      0.000       0.042       0.123\n",
       "==============================================================================\n",
       "Omnibus:                      106.621   Durbin-Watson:                   2.139\n",
       "Prob(Omnibus):                  0.000   Jarque-Bera (JB):             1963.489\n",
       "Skew:                           4.483   Prob(JB):                         0.00\n",
       "Kurtosis:                      26.057   Cond. No.                         32.8\n",
       "==============================================================================\n",
       "\n",
       "Warnings:\n",
       "[1] Standard Errors assume that the covariance matrix of the errors is correctly specified.\n",
       "\"\"\""
      ]
     },
     "execution_count": 63,
     "metadata": {},
     "output_type": "execute_result"
    }
   ],
   "source": [
    "dec_count_18 = merged_18[merged_18['Primary Type'] == 'DECEPTIVE PRACTICE'].groupby('Community Area')['ID'].count()\n",
    "dec_count_18 = dec_count_18.reset_index()\n",
    "dec_model_18 = pd.merge(dec_count_18, cas, on='Community Area', how='outer')\n",
    "dec_model_18 = dec_model_18.dropna()\n",
    "X_cols = ['Male pop', 'White pop', 'Median income', 'College degree holder']\n",
    "Y_col = ['ID']\n",
    "model_5 = sm.OLS(dec_model_18[Y_col], dec_model_18[X_cols])\n",
    "result_5 = model_5.fit()\n",
    "result_5.summary()"
   ]
  },
  {
   "cell_type": "markdown",
   "metadata": {},
   "source": [
    "Find the type of community area that have reports of 'Sex Offense', using linear regression model\n",
    "<br>\n",
    "According to the following OLS model, community areas that have more male population and less white population tend to have more reports on \"Sex Offense\""
   ]
  },
  {
   "cell_type": "code",
   "execution_count": 64,
   "metadata": {},
   "outputs": [
    {
     "data": {
      "text/html": [
       "<table class=\"simpletable\">\n",
       "<caption>OLS Regression Results</caption>\n",
       "<tr>\n",
       "  <th>Dep. Variable:</th>           <td>ID</td>        <th>  R-squared:         </th> <td>   0.876</td>\n",
       "</tr>\n",
       "<tr>\n",
       "  <th>Model:</th>                   <td>OLS</td>       <th>  Adj. R-squared:    </th> <td>   0.869</td>\n",
       "</tr>\n",
       "<tr>\n",
       "  <th>Method:</th>             <td>Least Squares</td>  <th>  F-statistic:       </th> <td>   125.6</td>\n",
       "</tr>\n",
       "<tr>\n",
       "  <th>Date:</th>             <td>Mon, 08 Apr 2019</td> <th>  Prob (F-statistic):</th> <td>2.02e-31</td>\n",
       "</tr>\n",
       "<tr>\n",
       "  <th>Time:</th>                 <td>21:07:36</td>     <th>  Log-Likelihood:    </th> <td> -249.09</td>\n",
       "</tr>\n",
       "<tr>\n",
       "  <th>No. Observations:</th>      <td>    75</td>      <th>  AIC:               </th> <td>   506.2</td>\n",
       "</tr>\n",
       "<tr>\n",
       "  <th>Df Residuals:</th>          <td>    71</td>      <th>  BIC:               </th> <td>   515.5</td>\n",
       "</tr>\n",
       "<tr>\n",
       "  <th>Df Model:</th>              <td>     4</td>      <th>                     </th>     <td> </td>   \n",
       "</tr>\n",
       "<tr>\n",
       "  <th>Covariance Type:</th>      <td>nonrobust</td>    <th>                     </th>     <td> </td>   \n",
       "</tr>\n",
       "</table>\n",
       "<table class=\"simpletable\">\n",
       "<tr>\n",
       "            <td></td>               <th>coef</th>     <th>std err</th>      <th>t</th>      <th>P>|t|</th>  <th>[0.025</th>    <th>0.975]</th>  \n",
       "</tr>\n",
       "<tr>\n",
       "  <th>Male pop</th>              <td>    0.0011</td> <td> 9.67e-05</td> <td>   11.651</td> <td> 0.000</td> <td>    0.001</td> <td>    0.001</td>\n",
       "</tr>\n",
       "<tr>\n",
       "  <th>White pop</th>             <td>   -0.0005</td> <td> 9.03e-05</td> <td>   -5.825</td> <td> 0.000</td> <td>   -0.001</td> <td>   -0.000</td>\n",
       "</tr>\n",
       "<tr>\n",
       "  <th>Median income</th>         <td>-3.782e-05</td> <td>  5.3e-05</td> <td>   -0.713</td> <td> 0.478</td> <td>   -0.000</td> <td> 6.79e-05</td>\n",
       "</tr>\n",
       "<tr>\n",
       "  <th>College degree holder</th> <td>    0.0021</td> <td>    0.001</td> <td>    3.447</td> <td> 0.001</td> <td>    0.001</td> <td>    0.003</td>\n",
       "</tr>\n",
       "</table>\n",
       "<table class=\"simpletable\">\n",
       "<tr>\n",
       "  <th>Omnibus:</th>       <td>28.793</td> <th>  Durbin-Watson:     </th> <td>   1.928</td>\n",
       "</tr>\n",
       "<tr>\n",
       "  <th>Prob(Omnibus):</th> <td> 0.000</td> <th>  Jarque-Bera (JB):  </th> <td>  56.558</td>\n",
       "</tr>\n",
       "<tr>\n",
       "  <th>Skew:</th>          <td> 1.366</td> <th>  Prob(JB):          </th> <td>5.23e-13</td>\n",
       "</tr>\n",
       "<tr>\n",
       "  <th>Kurtosis:</th>      <td> 6.261</td> <th>  Cond. No.          </th> <td>    32.6</td>\n",
       "</tr>\n",
       "</table><br/><br/>Warnings:<br/>[1] Standard Errors assume that the covariance matrix of the errors is correctly specified."
      ],
      "text/plain": [
       "<class 'statsmodels.iolib.summary.Summary'>\n",
       "\"\"\"\n",
       "                            OLS Regression Results                            \n",
       "==============================================================================\n",
       "Dep. Variable:                     ID   R-squared:                       0.876\n",
       "Model:                            OLS   Adj. R-squared:                  0.869\n",
       "Method:                 Least Squares   F-statistic:                     125.6\n",
       "Date:                Mon, 08 Apr 2019   Prob (F-statistic):           2.02e-31\n",
       "Time:                        21:07:36   Log-Likelihood:                -249.09\n",
       "No. Observations:                  75   AIC:                             506.2\n",
       "Df Residuals:                      71   BIC:                             515.5\n",
       "Df Model:                           4                                         \n",
       "Covariance Type:            nonrobust                                         \n",
       "=========================================================================================\n",
       "                            coef    std err          t      P>|t|      [0.025      0.975]\n",
       "-----------------------------------------------------------------------------------------\n",
       "Male pop                  0.0011   9.67e-05     11.651      0.000       0.001       0.001\n",
       "White pop                -0.0005   9.03e-05     -5.825      0.000      -0.001      -0.000\n",
       "Median income         -3.782e-05    5.3e-05     -0.713      0.478      -0.000    6.79e-05\n",
       "College degree holder     0.0021      0.001      3.447      0.001       0.001       0.003\n",
       "==============================================================================\n",
       "Omnibus:                       28.793   Durbin-Watson:                   1.928\n",
       "Prob(Omnibus):                  0.000   Jarque-Bera (JB):               56.558\n",
       "Skew:                           1.366   Prob(JB):                     5.23e-13\n",
       "Kurtosis:                       6.261   Cond. No.                         32.6\n",
       "==============================================================================\n",
       "\n",
       "Warnings:\n",
       "[1] Standard Errors assume that the covariance matrix of the errors is correctly specified.\n",
       "\"\"\""
      ]
     },
     "execution_count": 64,
     "metadata": {},
     "output_type": "execute_result"
    }
   ],
   "source": [
    "sex_count_18 = merged_18[merged_18['Primary Type'] == 'SEX OFFENSE'].groupby('Community Area')['ID'].count()\n",
    "sex_count_18 = sex_count_18.reset_index()\n",
    "sex_model_18 = pd.merge(sex_count_18, cas, on='Community Area', how='outer')\n",
    "sex_model_18 = sex_model_18.dropna()\n",
    "X_cols = ['Male pop', 'White pop', 'Median income', 'College degree holder']\n",
    "Y_col = ['ID']\n",
    "model_6 = sm.OLS(sex_model_18[Y_col], sex_model_18[X_cols])\n",
    "result_6 = model_6.fit()\n",
    "result_6.summary()"
   ]
  },
  {
   "cell_type": "markdown",
   "metadata": {},
   "source": [
    "## Problem 3: Analysis and Communication"
   ]
  },
  {
   "cell_type": "markdown",
   "metadata": {},
   "source": [
    "1. Describe how crime changed from 2017 to 2018"
   ]
  },
  {
   "cell_type": "markdown",
   "metadata": {},
   "source": [
    "The total number of crime decreased by 1826 cases"
   ]
  },
  {
   "cell_type": "code",
   "execution_count": 65,
   "metadata": {},
   "outputs": [
    {
     "data": {
      "text/plain": [
       "-1826"
      ]
     },
     "execution_count": 65,
     "metadata": {},
     "output_type": "execute_result"
    }
   ],
   "source": [
    "merged_18.shape[0] - merged_17.shape[0]"
   ]
  },
  {
   "cell_type": "markdown",
   "metadata": {},
   "source": [
    "The top 10 crime types in 2017 are following:"
   ]
  },
  {
   "cell_type": "code",
   "execution_count": 66,
   "metadata": {},
   "outputs": [
    {
     "data": {
      "text/plain": [
       "THEFT                  64346\n",
       "BATTERY                49214\n",
       "CRIMINAL DAMAGE        29042\n",
       "ASSAULT                19303\n",
       "DECEPTIVE PRACTICE     19028\n",
       "OTHER OFFENSE          17227\n",
       "BURGLARY               13001\n",
       "ROBBERY                11877\n",
       "NARCOTICS              11658\n",
       "MOTOR VEHICLE THEFT    11406\n",
       "Name: Primary Type, dtype: int64"
      ]
     },
     "execution_count": 66,
     "metadata": {},
     "output_type": "execute_result"
    }
   ],
   "source": [
    "crime_17_type_count[:10]"
   ]
  },
  {
   "cell_type": "markdown",
   "metadata": {},
   "source": [
    "The top 10 crime types in 2018 are following:"
   ]
  },
  {
   "cell_type": "code",
   "execution_count": 67,
   "metadata": {},
   "outputs": [
    {
     "data": {
      "text/plain": [
       "THEFT                  65082\n",
       "BATTERY                49782\n",
       "CRIMINAL DAMAGE        27806\n",
       "ASSAULT                20377\n",
       "DECEPTIVE PRACTICE     18733\n",
       "OTHER OFFENSE          17130\n",
       "NARCOTICS              12988\n",
       "BURGLARY               11730\n",
       "MOTOR VEHICLE THEFT     9988\n",
       "ROBBERY                 9683\n",
       "Name: Primary Type, dtype: int64"
      ]
     },
     "execution_count": 67,
     "metadata": {},
     "output_type": "execute_result"
    }
   ],
   "source": [
    "crime_18_type_count[:10]"
   ]
  },
  {
   "cell_type": "markdown",
   "metadata": {},
   "source": [
    "The number of following 5 crime types decreased the most from 2017 to 2018"
   ]
  },
  {
   "cell_type": "code",
   "execution_count": 68,
   "metadata": {},
   "outputs": [
    {
     "data": {
      "text/plain": [
       "ROBBERY               -2194\n",
       "MOTOR VEHICLE THEFT   -1418\n",
       "BURGLARY              -1271\n",
       "CRIMINAL DAMAGE       -1236\n",
       "DECEPTIVE PRACTICE     -295\n",
       "Name: Primary Type, dtype: int64"
      ]
     },
     "execution_count": 68,
     "metadata": {},
     "output_type": "execute_result"
    }
   ],
   "source": [
    "crime_diff.sort_values(ascending=True)[:5]"
   ]
  },
  {
   "cell_type": "markdown",
   "metadata": {},
   "source": [
    "The number of following 5 crime types increased the most from 2017 to 2018"
   ]
  },
  {
   "cell_type": "code",
   "execution_count": 69,
   "metadata": {},
   "outputs": [
    {
     "data": {
      "text/plain": [
       "NARCOTICS            1330\n",
       "ASSAULT              1074\n",
       "WEAPONS VIOLATION     764\n",
       "THEFT                 736\n",
       "BATTERY               568\n",
       "Name: Primary Type, dtype: int64"
      ]
     },
     "execution_count": 69,
     "metadata": {},
     "output_type": "execute_result"
    }
   ],
   "source": [
    "crime_diff.sort_values(ascending=False)[:5]"
   ]
  },
  {
   "cell_type": "markdown",
   "metadata": {},
   "source": [
    "2. Facts-check on the candidate's speech"
   ]
  },
  {
   "cell_type": "markdown",
   "metadata": {},
   "source": [
    "Create the month column that extracts the month of every single entry"
   ]
  },
  {
   "cell_type": "code",
   "execution_count": 70,
   "metadata": {},
   "outputs": [],
   "source": [
    "merged_17['Month'] = merged_17.apply(lambda row: datetime.strptime(row['Date'], '%m/%d/%Y %H:%M:%S %p').month, axis=1)"
   ]
  },
  {
   "cell_type": "code",
   "execution_count": 71,
   "metadata": {},
   "outputs": [],
   "source": [
    "merged_18['Month'] = merged_18.apply(lambda row: datetime.strptime(row['Date'], '%m/%d/%Y %H:%M:%S %p').month, axis=1)"
   ]
  },
  {
   "cell_type": "markdown",
   "metadata": {},
   "source": [
    "Find the change of robberies in ward 43 in two time periods, which is not 21%"
   ]
  },
  {
   "cell_type": "code",
   "execution_count": 72,
   "metadata": {},
   "outputs": [
    {
     "data": {
      "text/plain": [
       "-0.25"
      ]
     },
     "execution_count": 72,
     "metadata": {},
     "output_type": "execute_result"
    }
   ],
   "source": [
    "robbery_17 = merged_17[(merged_17['Primary Type'] == 'ROBBERY') & (merged_17['Ward'] == 43)]\n",
    "robbery_cnt_17 = robbery_17[robbery_17['Month'] == 7]\n",
    "robbery_18 = merged_18[(merged_18['Primary Type'] == 'ROBBERY') & (merged_18['Ward'] == 43)]\n",
    "robbery_cnt_18 = robbery_18[robbery_18['Month'] == 7]\n",
    "(robbery_cnt_18.shape[0] - robbery_cnt_17.shape[0])/robbery_cnt_17.shape[0]"
   ]
  },
  {
   "cell_type": "markdown",
   "metadata": {},
   "source": [
    "Find the change of batteries in ward 43 in two time periods, which is not 136%"
   ]
  },
  {
   "cell_type": "code",
   "execution_count": 73,
   "metadata": {},
   "outputs": [
    {
     "data": {
      "text/plain": [
       "-0.1276595744680851"
      ]
     },
     "execution_count": 73,
     "metadata": {},
     "output_type": "execute_result"
    }
   ],
   "source": [
    "bat_17 = merged_17[(merged_17['Primary Type'] == 'BATTERY') & (merged_17['Ward'] == 43)]\n",
    "bat_cnt_17 = bat_17[bat_17['Month'] == 7]\n",
    "bat_18 = merged_18[(merged_18['Primary Type'] == 'BATTERY') & (merged_18['Ward'] == 43)]\n",
    "bat_cnt_18 = bat_18[bat_18['Month'] == 7]\n",
    "(bat_cnt_18.shape[0] - bat_cnt_17.shape[0])/bat_cnt_17.shape[0]"
   ]
  },
  {
   "cell_type": "markdown",
   "metadata": {},
   "source": [
    "Find the change of burglaries in ward 43 in two time periods, which is not 50%"
   ]
  },
  {
   "cell_type": "code",
   "execution_count": 74,
   "metadata": {},
   "outputs": [
    {
     "data": {
      "text/plain": [
       "0.0"
      ]
     },
     "execution_count": 74,
     "metadata": {},
     "output_type": "execute_result"
    }
   ],
   "source": [
    "burg_17 = merged_17[(merged_17['Primary Type'] == 'BURGLARY') & (merged_17['Ward'] == 43)]\n",
    "burg_cnt_17 = burg_17[burg_17['Month'] == 7]\n",
    "burg_18 = merged_18[(merged_18['Primary Type'] == 'BURGLARY') & (merged_18['Ward'] == 43)]\n",
    "burg_cnt_18 = burg_18[burg_18['Month'] == 7]\n",
    "(burg_cnt_18.shape[0] - burg_cnt_17.shape[0])/burg_cnt_17.shape[0]"
   ]
  },
  {
   "cell_type": "markdown",
   "metadata": {},
   "source": [
    "Find the change of motor vehicle theft in ward 43 in two time periods, which is not 41%"
   ]
  },
  {
   "cell_type": "code",
   "execution_count": 75,
   "metadata": {},
   "outputs": [
    {
     "data": {
      "text/plain": [
       "0.2727272727272727"
      ]
     },
     "execution_count": 75,
     "metadata": {},
     "output_type": "execute_result"
    }
   ],
   "source": [
    "mot_17 = merged_17[(merged_17['Primary Type'] == 'MOTOR VEHICLE THEFT') & (merged_17['Ward'] == 43)]\n",
    "mot_cnt_17 = mot_17[mot_17['Month'] == 7]\n",
    "mot_18 = merged_18[(merged_18['Primary Type'] == 'MOTOR VEHICLE THEFT') & (merged_18['Ward'] == 43)]\n",
    "mot_cnt_18 = mot_18[mot_18['Month'] == 7]\n",
    "(mot_cnt_18.shape[0] - mot_cnt_17.shape[0])/mot_cnt_17.shape[0]"
   ]
  },
  {
   "cell_type": "markdown",
   "metadata": {},
   "source": [
    "Find the change of total crime in ward 43 in two time periods, which is about 13.4% increase"
   ]
  },
  {
   "cell_type": "code",
   "execution_count": 76,
   "metadata": {},
   "outputs": [
    {
     "data": {
      "text/plain": [
       "0.13404825737265416"
      ]
     },
     "execution_count": 76,
     "metadata": {},
     "output_type": "execute_result"
    }
   ],
   "source": [
    "total_17 = merged_17[(merged_17['Month'] == 7) & (merged_17['Ward'] == 43)]\n",
    "total_18 = merged_18[(merged_18['Month'] == 7) & (merged_18['Ward'] == 43)]\n",
    "(total_18.shape[0] - total_17.shape[0])/total_17.shape[0]"
   ]
  },
  {
   "cell_type": "markdown",
   "metadata": {},
   "source": [
    "Find the change of total crime in ward 43 in two Year-to-Date periods, which is about 10% increase"
   ]
  },
  {
   "cell_type": "code",
   "execution_count": 77,
   "metadata": {},
   "outputs": [
    {
     "data": {
      "text/plain": [
       "0.10040522287257991"
      ]
     },
     "execution_count": 77,
     "metadata": {},
     "output_type": "execute_result"
    }
   ],
   "source": [
    "year_to_date_17 = merged_17[(merged_17['Month'].between(1, 7, inclusive=True)) & (merged_17['Ward'] == 43)]\n",
    "year_to_date_18 = merged_18[(merged_18['Month'].between(1, 7, inclusive=True)) & (merged_18['Ward'] == 43)]\n",
    "(year_to_date_18.shape[0] - year_to_date_17.shape[0])/year_to_date_17.shape[0]"
   ]
  },
  {
   "cell_type": "markdown",
   "metadata": {},
   "source": [
    "The statistics on the change in Robberies, Batteries, Burglaries, and Motor Vehicle Theft are incorrect\n",
    "<br>\n",
    "The statistics on the change in overall crime numbers are close to the truth\n",
    "<br>\n",
    "The claims on the change of Robberies, Batteries, Burglaries, and Motor Vehicle Theft could be misleading, as they do not reflect the real change at all. The overall claim could also be misleading, as we can see that the overall number of crime has decreased slightly from 2017 to 2018"
   ]
  },
  {
   "cell_type": "markdown",
   "metadata": {},
   "source": [
    "Here are my five key findings:\n",
    "<br>\n",
    "<br>\n",
    "I. From 2017 to 2018, we saw an increase in reports on narcotics, assault, and weapon violation.\n",
    "<br>\n",
    "II. We should focus on advocacy of anti-sex offense, especially in areas populated by minorities.\n",
    "<br>\n",
    "III. We should focus on advocacy of anti-scam in areas populated by people with college degrees\n",
    "<br>\n",
    "IV. Theft is still the biggest problem among all crime types\n",
    "<br>\n",
    "V. Overall, the number of crime decreased slightly from 2017 to 2018"
   ]
  },
  {
   "cell_type": "markdown",
   "metadata": {},
   "source": [
    "Caveats:\n",
    "<br>\n",
    "<br>\n",
    "I. It is conducted on community-area level; the modelling part could be more accurate if it is conducted on census-tract level.\n",
    "<br>\n",
    "II. The studies would deliver more information if we further break down the racial composition variable (instead of white vs. non-white)"
   ]
  },
  {
   "cell_type": "markdown",
   "metadata": {},
   "source": [
    "## Problem 3. Basic Statistics"
   ]
  },
  {
   "cell_type": "markdown",
   "metadata": {},
   "source": [
    "Question A."
   ]
  },
  {
   "cell_type": "code",
   "execution_count": 78,
   "metadata": {},
   "outputs": [],
   "source": [
    "s_michigan_17 = merged_17[merged_17['Block'] == '021XX S MICHIGAN AVE']"
   ]
  },
  {
   "cell_type": "code",
   "execution_count": 79,
   "metadata": {},
   "outputs": [],
   "source": [
    "s_michigan_18 = merged_18[merged_18['Block'] == '021XX S MICHIGAN AVE']"
   ]
  },
  {
   "cell_type": "code",
   "execution_count": 80,
   "metadata": {},
   "outputs": [
    {
     "data": {
      "text/plain": [
       "BATTERY                              12\n",
       "OTHER OFFENSE                         6\n",
       "ASSAULT                               4\n",
       "THEFT                                 4\n",
       "CRIMINAL DAMAGE                       3\n",
       "ROBBERY                               2\n",
       "BURGLARY                              1\n",
       "MOTOR VEHICLE THEFT                   1\n",
       "CRIMINAL TRESPASS                     1\n",
       "DECEPTIVE PRACTICE                    1\n",
       "HOMICIDE                              0\n",
       "HUMAN TRAFFICKING                     0\n",
       "WEAPONS VIOLATION                     0\n",
       "GAMBLING                              0\n",
       "INTIMIDATION                          0\n",
       "CRIM SEXUAL ASSAULT                   0\n",
       "CONCEALED CARRY LICENSE VIOLATION     0\n",
       "INTERFERENCE WITH PUBLIC OFFICER      0\n",
       "LIQUOR LAW VIOLATION                  0\n",
       "KIDNAPPING                            0\n",
       "NARCOTICS                             0\n",
       "NON-CRIMINAL                          0\n",
       "NON-CRIMINAL (SUBJECT SPECIFIED)      0\n",
       "OBSCENITY                             0\n",
       "OFFENSE INVOLVING CHILDREN            0\n",
       "OTHER NARCOTIC VIOLATION              0\n",
       "PROSTITUTION                          0\n",
       "PUBLIC INDECENCY                      0\n",
       "PUBLIC PEACE VIOLATION                0\n",
       "SEX OFFENSE                           0\n",
       "STALKING                              0\n",
       "ARSON                                 0\n",
       "Name: Primary Type, dtype: int64"
      ]
     },
     "execution_count": 80,
     "metadata": {},
     "output_type": "execute_result"
    }
   ],
   "source": [
    "s_michigan_17['Primary Type'].value_counts()"
   ]
  },
  {
   "cell_type": "code",
   "execution_count": 81,
   "metadata": {},
   "outputs": [
    {
     "data": {
      "text/plain": [
       "OTHER OFFENSE                        7\n",
       "DECEPTIVE PRACTICE                   5\n",
       "BATTERY                              4\n",
       "CRIMINAL DAMAGE                      3\n",
       "ASSAULT                              2\n",
       "THEFT                                2\n",
       "PUBLIC PEACE VIOLATION               1\n",
       "MOTOR VEHICLE THEFT                  1\n",
       "HUMAN TRAFFICKING                    0\n",
       "HOMICIDE                             0\n",
       "GAMBLING                             0\n",
       "WEAPONS VIOLATION                    0\n",
       "CRIMINAL TRESPASS                    0\n",
       "INTIMIDATION                         0\n",
       "CRIM SEXUAL ASSAULT                  0\n",
       "CONCEALED CARRY LICENSE VIOLATION    0\n",
       "BURGLARY                             0\n",
       "INTERFERENCE WITH PUBLIC OFFICER     0\n",
       "LIQUOR LAW VIOLATION                 0\n",
       "KIDNAPPING                           0\n",
       "NARCOTICS                            0\n",
       "NON-CRIMINAL                         0\n",
       "NON-CRIMINAL (SUBJECT SPECIFIED)     0\n",
       "OBSCENITY                            0\n",
       "OFFENSE INVOLVING CHILDREN           0\n",
       "OTHER NARCOTIC VIOLATION             0\n",
       "PROSTITUTION                         0\n",
       "PUBLIC INDECENCY                     0\n",
       "ROBBERY                              0\n",
       "SEX OFFENSE                          0\n",
       "STALKING                             0\n",
       "ARSON                                0\n",
       "Name: Primary Type, dtype: int64"
      ]
     },
     "execution_count": 81,
     "metadata": {},
     "output_type": "execute_result"
    }
   ],
   "source": [
    "s_michigan_18['Primary Type'].value_counts()"
   ]
  },
  {
   "cell_type": "code",
   "execution_count": 82,
   "metadata": {},
   "outputs": [],
   "source": [
    "total_counts = s_michigan_17['Primary Type'].value_counts() + s_michigan_18['Primary Type'].value_counts()"
   ]
  },
  {
   "cell_type": "code",
   "execution_count": 83,
   "metadata": {},
   "outputs": [
    {
     "data": {
      "text/plain": [
       "60"
      ]
     },
     "execution_count": 83,
     "metadata": {},
     "output_type": "execute_result"
    }
   ],
   "source": [
    "sum(total_counts)"
   ]
  },
  {
   "cell_type": "code",
   "execution_count": 84,
   "metadata": {},
   "outputs": [
    {
     "data": {
      "text/plain": [
       "ASSAULT                    6\n",
       "BATTERY                   16\n",
       "BURGLARY                   1\n",
       "CRIMINAL DAMAGE            6\n",
       "CRIMINAL TRESPASS          1\n",
       "DECEPTIVE PRACTICE         6\n",
       "MOTOR VEHICLE THEFT        2\n",
       "OTHER OFFENSE             13\n",
       "PUBLIC PEACE VIOLATION     1\n",
       "ROBBERY                    2\n",
       "THEFT                      6\n",
       "Name: Primary Type, dtype: int64"
      ]
     },
     "execution_count": 84,
     "metadata": {},
     "output_type": "execute_result"
    }
   ],
   "source": [
    "total_counts[total_counts > 0]"
   ]
  },
  {
   "cell_type": "markdown",
   "metadata": {},
   "source": [
    "The Probability for Battery is 26.67%"
   ]
  },
  {
   "cell_type": "code",
   "execution_count": 85,
   "metadata": {},
   "outputs": [
    {
     "data": {
      "text/plain": [
       "0.26666666666666666"
      ]
     },
     "execution_count": 85,
     "metadata": {},
     "output_type": "execute_result"
    }
   ],
   "source": [
    "p_battery = total_counts['BATTERY']/sum(total_counts)\n",
    "p_battery"
   ]
  },
  {
   "cell_type": "markdown",
   "metadata": {},
   "source": [
    "The Probability for Other Offense is 21.67%"
   ]
  },
  {
   "cell_type": "code",
   "execution_count": 86,
   "metadata": {},
   "outputs": [
    {
     "data": {
      "text/plain": [
       "0.21666666666666667"
      ]
     },
     "execution_count": 86,
     "metadata": {},
     "output_type": "execute_result"
    }
   ],
   "source": [
    "p_other_offense = total_counts['OTHER OFFENSE']/sum(total_counts)\n",
    "p_other_offense"
   ]
  },
  {
   "cell_type": "markdown",
   "metadata": {},
   "source": [
    "The Probability for Assault, as well as for Criminal Damage, Deceptive Practice, and Theft, respectively, is 10%"
   ]
  },
  {
   "cell_type": "code",
   "execution_count": 87,
   "metadata": {},
   "outputs": [
    {
     "data": {
      "text/plain": [
       "0.1"
      ]
     },
     "execution_count": 87,
     "metadata": {},
     "output_type": "execute_result"
    }
   ],
   "source": [
    "p_assault = total_counts['ASSAULT']/sum(total_counts)\n",
    "p_assault"
   ]
  },
  {
   "cell_type": "markdown",
   "metadata": {},
   "source": [
    "The Probability for Robbery, as well as for Motor Vehicle Theft, is 3%"
   ]
  },
  {
   "cell_type": "code",
   "execution_count": 88,
   "metadata": {},
   "outputs": [
    {
     "data": {
      "text/plain": [
       "0.03333333333333333"
      ]
     },
     "execution_count": 88,
     "metadata": {},
     "output_type": "execute_result"
    }
   ],
   "source": [
    "p_robbery = total_counts['ROBBERY']/sum(total_counts)\n",
    "p_robbery"
   ]
  },
  {
   "cell_type": "markdown",
   "metadata": {},
   "source": [
    "The Probability for Burglary, as well as for Criminal Trepass and Public Peace Violation respectively, is 1.67%"
   ]
  },
  {
   "cell_type": "code",
   "execution_count": 89,
   "metadata": {},
   "outputs": [
    {
     "data": {
      "text/plain": [
       "0.016666666666666666"
      ]
     },
     "execution_count": 89,
     "metadata": {},
     "output_type": "execute_result"
    }
   ],
   "source": [
    "p_burg = total_counts['BURGLARY']/sum(total_counts)\n",
    "p_burg"
   ]
  },
  {
   "cell_type": "markdown",
   "metadata": {},
   "source": [
    "The Probability for the rest is 0"
   ]
  },
  {
   "cell_type": "markdown",
   "metadata": {},
   "source": [
    "Question B."
   ]
  },
  {
   "cell_type": "code",
   "execution_count": 90,
   "metadata": {},
   "outputs": [],
   "source": [
    "theft_17 = merged_17[merged_17['Primary Type'] == 'THEFT']"
   ]
  },
  {
   "cell_type": "code",
   "execution_count": 91,
   "metadata": {},
   "outputs": [],
   "source": [
    "theft_18 = merged_18[merged_18['Primary Type'] == 'THEFT']"
   ]
  },
  {
   "cell_type": "code",
   "execution_count": 92,
   "metadata": {},
   "outputs": [],
   "source": [
    "theft = pd.concat([theft_17, theft_18], ignore_index=True)"
   ]
  },
  {
   "cell_type": "code",
   "execution_count": 93,
   "metadata": {},
   "outputs": [],
   "source": [
    "garfield_no = theft[(theft['Community Area'] == 26) | (theft['Community Area'] == 27)]"
   ]
  },
  {
   "cell_type": "code",
   "execution_count": 94,
   "metadata": {},
   "outputs": [
    {
     "data": {
      "text/plain": [
       "0.01926940074790617"
      ]
     },
     "execution_count": 94,
     "metadata": {},
     "output_type": "execute_result"
    }
   ],
   "source": [
    "garfield_no.shape[0]/theft.shape[0]"
   ]
  },
  {
   "cell_type": "code",
   "execution_count": 95,
   "metadata": {},
   "outputs": [
    {
     "data": {
      "text/plain": [
       "0.015097196897116543"
      ]
     },
     "execution_count": 95,
     "metadata": {},
     "output_type": "execute_result"
    }
   ],
   "source": [
    "uptown_no = theft[theft['Community Area'] == 3]\n",
    "uptown_no.shape[0]/theft.shape[0]"
   ]
  },
  {
   "cell_type": "markdown",
   "metadata": {},
   "source": [
    "It is more likely to be from Garfield than from Uptown by 0.417%"
   ]
  },
  {
   "cell_type": "code",
   "execution_count": 96,
   "metadata": {},
   "outputs": [
    {
     "data": {
      "text/plain": [
       "0.004172203850789627"
      ]
     },
     "execution_count": 96,
     "metadata": {},
     "output_type": "execute_result"
    }
   ],
   "source": [
    "(garfield_no.shape[0]/theft.shape[0]) - (uptown_no.shape[0]/theft.shape[0])"
   ]
  },
  {
   "cell_type": "markdown",
   "metadata": {},
   "source": [
    "Question C."
   ]
  },
  {
   "cell_type": "markdown",
   "metadata": {},
   "source": [
    "According to the theorem of the probability on conditional event:\n",
    "\n",
    "P(A|B) = P(A intersection B)/P(B)"
   ]
  },
  {
   "cell_type": "code",
   "execution_count": 97,
   "metadata": {},
   "outputs": [],
   "source": [
    "p_bat_con_garfield = ((600/1000) * (100/600))/((100+160)/1000)"
   ]
  },
  {
   "cell_type": "code",
   "execution_count": 98,
   "metadata": {},
   "outputs": [],
   "source": [
    "p_bat_con_uptown = ((400/1000) * (160/400))/((100+160)/1000)"
   ]
  },
  {
   "cell_type": "markdown",
   "metadata": {},
   "source": [
    "It is more likely to be from Uptown than from Garfield by 23.08%"
   ]
  },
  {
   "cell_type": "code",
   "execution_count": 99,
   "metadata": {},
   "outputs": [
    {
     "data": {
      "text/plain": [
       "0.23076923076923095"
      ]
     },
     "execution_count": 99,
     "metadata": {},
     "output_type": "execute_result"
    }
   ],
   "source": [
    "p_bat_con_uptown - p_bat_con_garfield"
   ]
  }
 ],
 "metadata": {
  "kernelspec": {
   "display_name": "Python 3",
   "language": "python",
   "name": "python3"
  },
  "language_info": {
   "codemirror_mode": {
    "name": "ipython",
    "version": 3
   },
   "file_extension": ".py",
   "mimetype": "text/x-python",
   "name": "python",
   "nbconvert_exporter": "python",
   "pygments_lexer": "ipython3",
   "version": "3.7.1"
  }
 },
 "nbformat": 4,
 "nbformat_minor": 2
}
